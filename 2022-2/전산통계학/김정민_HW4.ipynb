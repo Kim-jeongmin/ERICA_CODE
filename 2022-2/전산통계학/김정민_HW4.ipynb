{
  "nbformat": 4,
  "nbformat_minor": 0,
  "metadata": {
    "colab": {
      "provenance": []
    },
    "kernelspec": {
      "name": "python3",
      "display_name": "Python 3"
    },
    "language_info": {
      "name": "python"
    }
  },
  "cells": [
    {
      "cell_type": "code",
      "execution_count": 6,
      "metadata": {
        "colab": {
          "base_uri": "https://localhost:8080/"
        },
        "id": "rfkFEpTAx8lH",
        "outputId": "6b54c2fb-e4a9-46ad-d6b4-7a638968d192"
      },
      "outputs": [
        {
          "output_type": "stream",
          "name": "stdout",
          "text": [
            "T stat is , 1.5961052019978192\n",
            "P-values is 0.11046530746915773\n",
            "귀무가설 채택\n"
          ]
        }
      ],
      "source": [
        "from scipy.stats import norm\n",
        "import numpy as np\n",
        "\n",
        "def two_prop(x, n1, y, n2, alternative):\n",
        "  phat1 = x/n1\n",
        "  phat2 = y/n2\n",
        "  phat = (x+y)/(n1+n2)\n",
        "\n",
        "  tstat = (phat1 - phat2) / (np.sqrt(phat * (1 - phat)) * np.sqrt(1/n1 + 1/n2))\n",
        "  if alternative == 'less':\n",
        "    pval = norm.cdf(tstat)\n",
        "  elif alternative == 'greater':\n",
        "    pval = 1 - norm.cdf(tstat)\n",
        "  else:\n",
        "    pval = 2*(1-norm.cdf(tstat))\n",
        "  return tstat, pval\n",
        "\n",
        "tstat, pval = two_prop(25, 39, 19, 41, 'two_sided')\n",
        "\n",
        "print(\"T stat is ,\", tstat)\n",
        "print(\"P-values is\", pval)\n",
        "\n",
        "\n",
        "if pval > 0.025:\n",
        "  print('귀무가설 채택')\n",
        "else:\n",
        "  print('귀무가설 기각')\n",
        "\n",
        "\n",
        "\n",
        "\n"
      ]
    }
  ]
}