{
  "nbformat": 4,
  "nbformat_minor": 0,
  "metadata": {
    "colab": {
      "provenance": []
    },
    "kernelspec": {
      "name": "python3",
      "display_name": "Python 3"
    },
    "language_info": {
      "name": "python"
    }
  },
  "cells": [
    {
      "cell_type": "code",
      "execution_count": 15,
      "metadata": {
        "colab": {
          "base_uri": "https://localhost:8080/"
        },
        "id": "c0N5iR4wuvwf",
        "outputId": "d419a404-2cae-4d54-c193-3abb57042f9a"
      },
      "outputs": [
        {
          "output_type": "stream",
          "name": "stdout",
          "text": [
            "point estimator of mean is -3.0546\n",
            "95% of CI of the difference of two means is -5.6986 and -0.4106\n"
          ]
        }
      ],
      "source": [
        "import numpy as np\n",
        "import matplotlib.pyplot as plt\n",
        "from scipy.stats import norm, t\n",
        "\n",
        "g1= np.array([10.89501377,  9.8230757,  10.32455374,  8.45578609,  9.39182539,  9.95700716,\n",
        " 10.29498543,  8.41609904, 10.58118058,  9.42093474, 11.36489356,  9.75706302,\n",
        " 10.59666392,  9.48271418,  8.80250863, 11.73252702,  9.59141368,  8.87440676,\n",
        " 10.97248738,  8.80258369, 10.12646653,  9.42512971,  9.42348484])\n",
        "\n",
        "g2 = np.array([15.34335212, 15.06043,    15.05874448, 12.10309741, 13.6968674,   7.48704952,\n",
        " 11.77819829, 16.02358925, 13.21098821, 10.94883044, 13.79482562,  8.01488572,\n",
        " 14.77561771, 11.43374432, 11.8929748,  14.45360182,  7.88874348, 13.09578147,\n",
        " 10.77408497, 13.2729849,  13.65794948, 11.37722784, 13.9492838,  16.04796856,\n",
        " 14.63420973, 15.70304421])\n",
        "\n",
        "n_g1 = len(g1)\n",
        "n_g2 = len(g2)\n",
        "\n",
        "mean_g1 = np.mean(g1)\n",
        "mean_g2 = np.mean(g2)\n",
        "\n",
        "t_g = t(n_g1+n_g2-2)\n",
        "\n",
        "s2_pool = ((n_g1-1)*np.var(g1, ddof=1) + (n_g2-1)*np.var(g2, ddof = 1)) / (n_g1+n_g2-2)\n",
        "\n",
        "ll = (mean_g1 - mean_g2) - t_g.ppf(0.975)*np.sqrt(s2_pool)*np.sqrt(1/n_g1 + 1/n_g2)\n",
        "ul = (mean_g1 - mean_g2) + t_g.ppf(0.975)*np.sqrt(s2_pool)*np.sqrt(1/n_g1 + 1/n_g2)\n",
        "\n",
        "print(\"point estimator of mean is\", np.round(mean_g1 - mean_g2, 4))\n",
        "print(\"95% of CI of the difference of two means is {} and {}\".format(np.round(ll, 4), np.round(ul, 4)))\n",
        "\n",
        "\n",
        "\n",
        "\n",
        "\n"
      ]
    },
    {
      "cell_type": "code",
      "source": [],
      "metadata": {
        "id": "C4qVlkwfznjz"
      },
      "execution_count": null,
      "outputs": []
    }
  ]
}