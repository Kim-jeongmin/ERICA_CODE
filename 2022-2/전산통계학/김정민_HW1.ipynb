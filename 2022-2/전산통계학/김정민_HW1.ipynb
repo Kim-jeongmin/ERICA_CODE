{
  "cells": [
    {
      "cell_type": "code",
      "execution_count": 33,
      "metadata": {
        "colab": {
          "base_uri": "https://localhost:8080/",
          "height": 408
        },
        "id": "5Oxf2JhsqkGi",
        "outputId": "0fac691c-fa2e-4fd7-dfc7-cf21d216ae74"
      },
      "outputs": [
        {
          "name": "stdout",
          "output_type": "stream",
          "text": [
            "Nutrition      Frequency  Relative Freq\n",
            "95~96.84               3         0.0375\n",
            "96.84~98.68            9         0.1125\n",
            "98.68~100.52          38         0.4750\n",
            "100.52~102.36         26         0.3250\n",
            "102.36~104.2           4         0.0500\n",
            "Total                 80        80.0000\n"
          ]
        },
        {
          "data": {
            "text/plain": [
              "<Figure size 432x288 with 0 Axes>"
            ]
          },
          "metadata": {},
          "output_type": "display_data"
        },
        {
          "data": {
            "image/png": "[encoded data removed]",
            "text/plain": [
              "<Figure size 432x288 with 1 Axes>"
            ]
          },
          "metadata": {
            "needs_background": "light"
          },
          "output_type": "display_data"
        }
      ],
      "source": [
        "can = np.array([101.8, 101.5, 102.6, 101, 101.8, 96.8, 102.4, 100\n",
        "                ,98.8, 98.1,98.8, 98, 99.4, 95.5, 100.1, 100.5, 97.4\n",
        "                ,100.2, 101.4, 98.7,101.4, 99.4, 101.7, 99, 99.7, 98.9\n",
        "                ,99.5, 100, 99.7, 100.9,99.7, 99, 98.8, 99.7, 100.9, 99.9\n",
        "                ,97.5, 101.5, 98.2, 99.2,98.6, 101.4, 102.1, 102.9, 100.8\n",
        "                ,99.4, 103.7, 100.3, 100.2, 101.1,101.8, 100, 101.2, 100.5\n",
        "                ,101.2, 101.6, 99.9, 100.5, 100.4, 98.1,100.1, 101.6, 99.3\n",
        "                ,96.1, 100, 99.7, 99.7, 99.4, 101.5, 100.9,101.2, 99.9, 99.1\n",
        "                ,100.7, 100.8, 100.8, 101.4, 100.3, 98.4,97.2])import matplotlib.pyplot as pit\n",
        "import numpy as np\n",
        "import pandas as pd\n",
        "from matplotlib.ticker import PercentFormatter\n",
        "import matplotlib.patches as mplatches\n",
        "\n",
        "\n",
        "\n",
        "temp = []\n",
        "k = 5\n",
        "w = (np.max(can) - np.min(can) + 1) / 5\n",
        "\n",
        "x0 = np.min(can) - 0.5\n",
        "x1 = x0 + w\n",
        "x2 = x1 + w\n",
        "x3 = x2 + w\n",
        "x4 = x3 + w \n",
        "\n",
        "for index in can:\n",
        "  if x0 <= index < x1:\n",
        "    temp.append('A')\n",
        "  elif x1 <= index < x2:\n",
        "    temp.append('B')\n",
        "  elif x2 <= index  < x3:\n",
        "    temp.append('C')\n",
        "  elif x3 <= index < x4:\n",
        "    temp.append('D')\n",
        "  else :\n",
        "    temp.append('E')\n",
        "\n",
        "can2 = np.array(temp)\n",
        "\n",
        "table1 = pd.crosstab(index = can2, colnames = ['Nutrition'], columns = 'Frequency',  margins = True)\n",
        "table1.index = ['95~96.84', '96.84~98.68', '98.68~100.52', '100.52~102.36', '102.36~104.2', 'Total']\n",
        "\n",
        "for i in range(5):\n",
        "  table1.iloc[i, 1] = table1.iloc[i, 1]/table1.iloc[5, 0]\n",
        "\n",
        "table1.rename(columns = {'All' : 'Relative Freq'}, inplace = True)\n",
        "print(table1)\n",
        "\n",
        "\n",
        "fig, ax = pit.subplots()\n",
        "\n",
        "pit.barh(table1.index, table1['Frequency'], color=['pink'])\n",
        "pit.show()"
      ]
    },
    {
      "cell_type": "code",
      "execution_count": null,
      "metadata": {
        "id": "dztoDAcEyUuy"
      },
      "outputs": [],
      "source": []
    }
  ],
  "metadata": {
    "colab": {
      "provenance": []
    },
    "kernelspec": {
      "display_name": "Python 3",
      "name": "python3"
    },
    "language_info": {
      "name": "python"
    }
  },
  "nbformat": 4,
  "nbformat_minor": 0
}
